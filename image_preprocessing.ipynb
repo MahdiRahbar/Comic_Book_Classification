{
 "cells": [
  {
   "cell_type": "code",
   "execution_count": 50,
   "id": "c6ee83ae",
   "metadata": {},
   "outputs": [],
   "source": [
    "from PIL import Image \n",
    "import os \n",
    "import sys \n",
    "import glob \n",
    "from pathlib import Path\n",
    "\n",
    "import numpy as np"
   ]
  },
  {
   "cell_type": "code",
   "execution_count": 11,
   "id": "3a7d2978",
   "metadata": {},
   "outputs": [],
   "source": [
    "def fast_scandir(dirname = \"./\"):\n",
    "    subfolders= [f.path for f in os.scandir(dirname) if f.is_dir()]\n",
    "    directory_files = {}\n",
    "    for dirname in list(subfolders):\n",
    "        if dirname.split('/')[-1][0] != '.':\n",
    "            directory_files[dirname] = os.listdir(dirname)\n",
    "    return directory_files"
   ]
  },
  {
   "cell_type": "code",
   "execution_count": 47,
   "id": "8e0264cf",
   "metadata": {},
   "outputs": [],
   "source": [
    "def size_processor(image, dim_limit = 1000):\n",
    "    width, height = image.size\n",
    "    ratio = min(dim_limit/width, dim_limit/height)\n",
    "    image.thumbnail(ratio*np.array([width, height]), Image.ANTIALIAS)\n",
    "    return image "
   ]
  },
  {
   "cell_type": "code",
   "execution_count": 48,
   "id": "cc1fe3a8",
   "metadata": {},
   "outputs": [],
   "source": [
    "final_images = {}\n",
    "for k, v in file_dictionary.items():\n",
    "    final_images[k] = []\n",
    "    for i in range(len(v)):\n",
    "        im = Image.open(os.path.join(k , v[i]))\n",
    "        temp_img = size_processor(im)\n",
    "        final_images[k].append(temp_img)        "
   ]
  },
  {
   "cell_type": "code",
   "execution_count": 53,
   "id": "83f6be5d",
   "metadata": {},
   "outputs": [],
   "source": [
    "for k, v in final_images.items(): \n",
    "    Path(os.path.join(k, k)).mkdir(parents=True, exist_ok=True)\n",
    "    for i in range(len(v)):\n",
    "        v[i].save(os.path.join(k,k,str(i)+'.png'), \"PNG\")"
   ]
  },
  {
   "cell_type": "code",
   "execution_count": null,
   "id": "70f91fdb",
   "metadata": {},
   "outputs": [],
   "source": []
  }
 ],
 "metadata": {
  "kernelspec": {
   "display_name": "Python 3 (ipykernel)",
   "language": "python",
   "name": "python3"
  },
  "language_info": {
   "codemirror_mode": {
    "name": "ipython",
    "version": 3
   },
   "file_extension": ".py",
   "mimetype": "text/x-python",
   "name": "python",
   "nbconvert_exporter": "python",
   "pygments_lexer": "ipython3",
   "version": "3.9.10"
  }
 },
 "nbformat": 4,
 "nbformat_minor": 5
}
