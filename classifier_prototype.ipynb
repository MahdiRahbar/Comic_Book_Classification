{
 "cells": [
  {
   "cell_type": "code",
   "execution_count": 55,
   "id": "98618fad",
   "metadata": {},
   "outputs": [],
   "source": [
    "import os \n",
    "import sys \n",
    "import numpy as np \n",
    "import random \n",
    "import cv2\n",
    "import matplotlib.pyplot as plt\n",
    "import pickle\n",
    "import pylab as pl\n",
    "from sklearn.metrics import confusion_matrix,accuracy_score\n",
    "from sklearn.cluster import KMeans\n",
    "\n",
    "\n",
    "from sklearn.model_selection import train_test_split, GridSearchCV\n",
    "from sklearn.svm import SVC\n",
    "\n",
    "np.random.seed(42)"
   ]
  },
  {
   "cell_type": "code",
   "execution_count": 5,
   "id": "a9cd2636",
   "metadata": {},
   "outputs": [],
   "source": [
    "data_dir = './data/'\n",
    "class_list = ['Batman', 'Spiderman', 'None']\n",
    "\n",
    "\n",
    "Width = 256\n",
    "Height = 512"
   ]
  },
  {
   "cell_type": "code",
   "execution_count": 6,
   "id": "052a1dd2",
   "metadata": {},
   "outputs": [],
   "source": [
    "def get_file_names(path):\n",
    "    return [os.path.join(path,f) for f in os.listdir(path)]"
   ]
  },
  {
   "cell_type": "code",
   "execution_count": 61,
   "id": "89797652",
   "metadata": {},
   "outputs": [],
   "source": [
    "image_paths = {}\n",
    "for training_name in class_list:\n",
    "    dir_= os.path.join(data_dir, training_name)\n",
    "    class_path = get_file_names(dir_)\n",
    "    image_paths[training_name] = class_path"
   ]
  },
  {
   "cell_type": "code",
   "execution_count": 62,
   "id": "a868b8ac",
   "metadata": {},
   "outputs": [],
   "source": [
    "label_dict = {'Batman':0, 'Spiderman':1, 'None':2}\n",
    "image_data = []\n",
    "for k, v in image_paths.items():\n",
    "    for im in v: \n",
    "        image_data.append((im, label_dict[k]))"
   ]
  },
  {
   "cell_type": "code",
   "execution_count": 63,
   "id": "779bc6c8",
   "metadata": {},
   "outputs": [],
   "source": [
    "np.random.shuffle(image_data)\n",
    "image_paths, labels = zip(*image_data)"
   ]
  },
  {
   "cell_type": "code",
   "execution_count": 76,
   "id": "5452f80c",
   "metadata": {},
   "outputs": [
    {
     "name": "stderr",
     "output_type": "stream",
     "text": [
      "libpng warning: iCCP: known incorrect sRGB profile\n",
      "libpng warning: iCCP: known incorrect sRGB profile\n"
     ]
    }
   ],
   "source": [
    "des_list=[]\n",
    "hog = cv2.HOGDescriptor()\n",
    "\n",
    "# https://stackoverflow.com/questions/44972099/opencv-hog-features-explanation\n",
    "# https://answers.opencv.org/question/86023/what-is-the-hog-descriptors-shape/\n",
    "#\n",
    "\n",
    "for path in image_paths:\n",
    "    img = cv2.imread(path)\n",
    "    resized_image = []\n",
    "    for i in range(3): \n",
    "        resized_image.append(cv2.resize(img[:,:,i], (128,64)))\n",
    "    resized_image = np.array(resized_image).reshape(128,64,3)\n",
    "    #creating hog features \n",
    "    descriptor = hog.compute(resized_image)\n",
    "    des_list.append((path,np.array(descriptor)))"
   ]
  },
  {
   "cell_type": "code",
   "execution_count": 77,
   "id": "e4b917e7",
   "metadata": {},
   "outputs": [
    {
     "data": {
      "text/plain": [
       "'None'"
      ]
     },
     "execution_count": 77,
     "metadata": {},
     "output_type": "execute_result"
    }
   ],
   "source": [
    "path.split('/')[2]"
   ]
  },
  {
   "cell_type": "code",
   "execution_count": 82,
   "id": "30ac2a99",
   "metadata": {},
   "outputs": [],
   "source": [
    "reshaped_features = []\n",
    "image_labels = []\n",
    "BoW = []\n",
    "BoW_labels = [] \n",
    "for i in range(len(des_list)): \n",
    "    temp_des = des_list[i][1]\n",
    "    reshaped_features.append(temp_des.reshape(15*7,-1))\n",
    "    image_labels.append(label_dict[des_list[i][0].split('/')[2]])\n",
    "    for j in range(reshaped_features[i].shape[0]):\n",
    "        BoW.append(reshaped_features[i][j])\n",
    "        BoW_labels.append(des_list[i][0].split('/')[2])"
   ]
  },
  {
   "cell_type": "code",
   "execution_count": 83,
   "id": "d47519c8",
   "metadata": {},
   "outputs": [],
   "source": [
    "BoW_array = np.array(BoW)"
   ]
  },
  {
   "cell_type": "code",
   "execution_count": 84,
   "id": "06c85ab4",
   "metadata": {},
   "outputs": [
    {
     "data": {
      "text/plain": [
       "(22575, 36)"
      ]
     },
     "execution_count": 84,
     "metadata": {},
     "output_type": "execute_result"
    }
   ],
   "source": [
    "BoW_array.shape"
   ]
  },
  {
   "cell_type": "code",
   "execution_count": 166,
   "id": "65c64c36",
   "metadata": {},
   "outputs": [],
   "source": [
    "def build_histogram(descriptor_list, cluster_alg):\n",
    "    histogram = np.zeros(len(cluster_alg.cluster_centers_))\n",
    "    cluster_result =  cluster_alg.predict(descriptor_list)\n",
    "    for i in cluster_result:\n",
    "        histogram[i] += 1.0\n",
    "    return histogram\n",
    "\n",
    "kmeans = KMeans(n_clusters = 256)\n",
    "kmeans.fit(BoW_array)\n",
    "\n",
    "preprocessed_image = []\n",
    "\n",
    "for descriptor in reshaped_features:\n",
    "    if (descriptor is not None):\n",
    "        temp_features = []\n",
    "        for piece in descriptor: \n",
    "            histogram = build_histogram(piece.reshape(1,-1), kmeans)  # getting histogram for each piece \n",
    "            temp_features.append(histogram)\n",
    "        temp_features = np.sum(np.array(temp_features), 0)\n",
    "        preprocessed_image.append(temp_features.reshape(-1,))"
   ]
  },
  {
   "cell_type": "code",
   "execution_count": 167,
   "id": "e1e0efa5",
   "metadata": {},
   "outputs": [
    {
     "data": {
      "text/plain": [
       "array([0., 0., 2., 0., 1., 1., 1., 0., 0., 0., 0., 0., 0., 1., 0., 0., 0.,\n",
       "       0., 0., 0., 0., 0., 1., 0., 0., 3., 0., 0., 0., 0., 0., 3., 1., 0.,\n",
       "       2., 1., 1., 1., 0., 0., 0., 0., 0., 1., 0., 1., 0., 0., 0., 0., 0.,\n",
       "       1., 1., 1., 0., 0., 0., 0., 0., 0., 1., 0., 0., 0., 0., 0., 0., 0.,\n",
       "       0., 0., 0., 0., 1., 1., 1., 0., 2., 0., 0., 0., 0., 0., 0., 0., 1.,\n",
       "       0., 0., 2., 1., 0., 0., 0., 1., 0., 0., 0., 2., 0., 0., 1., 1., 0.,\n",
       "       0., 0., 0., 3., 1., 0., 0., 1., 1., 1., 0., 0., 0., 0., 3., 0., 0.,\n",
       "       0., 0., 0., 0., 0., 0., 0., 1., 0., 1., 0., 0., 0., 0., 0., 0., 0.,\n",
       "       0., 0., 1., 0., 0., 2., 0., 0., 1., 2., 0., 0., 0., 0., 2., 1., 0.,\n",
       "       1., 1., 1., 0., 1., 0., 0., 0., 0., 0., 1., 0., 0., 0., 2., 1., 1.,\n",
       "       0., 0., 2., 0., 0., 0., 1., 0., 0., 0., 0., 0., 1., 0., 0., 1., 1.,\n",
       "       0., 0., 1., 0., 1., 0., 0., 0., 0., 0., 0., 1., 0., 0., 0., 0., 1.,\n",
       "       0., 1., 0., 0., 4., 0., 0., 0., 1., 0., 0., 2., 1., 0., 1., 3., 0.,\n",
       "       0., 0., 0., 0., 0., 0., 1., 0., 1., 0., 0., 0., 0., 0., 0., 4., 2.,\n",
       "       0., 2., 0., 0., 0., 1., 0., 0., 1., 0., 0., 0., 0., 0., 0., 0., 0.,\n",
       "       1.])"
      ]
     },
     "execution_count": 167,
     "metadata": {},
     "output_type": "execute_result"
    }
   ],
   "source": [
    "preprocessed_image[0]"
   ]
  },
  {
   "cell_type": "code",
   "execution_count": 168,
   "id": "dbfb702a",
   "metadata": {},
   "outputs": [],
   "source": [
    "x_train, x_test, y_train, y_test = train_test_split(preprocessed_image, image_labels,\n",
    "                                                    test_size = .25, random_state = 18)\n"
   ]
  },
  {
   "cell_type": "code",
   "execution_count": 169,
   "id": "3f330f28",
   "metadata": {},
   "outputs": [],
   "source": [
    "grid = { \n",
    "    'C': [2**(-5), 2**(-4), 2**(-3), 2**(-2), 2**(-1), 1, 2, 4 ,8 ,16],\n",
    "    'kernel': ['linear', 'poly', 'rbf'],\n",
    "}\n",
    "\n",
    "# grid = { \n",
    "#     'C': [2**(-5),  2**(-3), 1, 4 ,16],\n",
    "#     'kernel': ['linear', 'rbf'],\n",
    "# }"
   ]
  },
  {
   "cell_type": "code",
   "execution_count": 170,
   "id": "9134b039",
   "metadata": {},
   "outputs": [
    {
     "data": {
      "text/plain": [
       "GridSearchCV(cv=5, estimator=SVC(),\n",
       "             param_grid={'C': [0.03125, 0.0625, 0.125, 0.25, 0.5, 1, 2, 4, 8,\n",
       "                               16],\n",
       "                         'kernel': ['linear', 'poly', 'rbf']})"
      ]
     },
     "execution_count": 170,
     "metadata": {},
     "output_type": "execute_result"
    }
   ],
   "source": [
    "svm_cv = GridSearchCV(estimator=SVC(), param_grid=grid, cv= 5)\n",
    "svm_cv.fit(x_train, y_train)"
   ]
  },
  {
   "cell_type": "code",
   "execution_count": 171,
   "id": "3592cb72",
   "metadata": {},
   "outputs": [
    {
     "name": "stdout",
     "output_type": "stream",
     "text": [
      "{'C': 0.03125, 'kernel': 'poly'}\n"
     ]
    }
   ],
   "source": [
    "print(svm_cv.best_params_)\n",
    "best_param = svm_cv.best_params_"
   ]
  },
  {
   "cell_type": "code",
   "execution_count": 172,
   "id": "89c2a830",
   "metadata": {},
   "outputs": [],
   "source": [
    "pickle_file_name = 'best_param_limmited.pkl'\n",
    "with open(pickle_file_name, 'wb') as handle:\n",
    "    pickle.dump(svm_cv.best_params_, handle, protocol=pickle.HIGHEST_PROTOCOL)\n"
   ]
  },
  {
   "cell_type": "code",
   "execution_count": 162,
   "id": "9972b40a",
   "metadata": {},
   "outputs": [],
   "source": [
    "pickle_file_name = 'best_param_limmited.pkl'\n",
    "if os.path.exists(pickle_file_name):\n",
    "    with open(pickle_file_name, 'rb') as handle:\n",
    "        best_param = pickle.load(handle)"
   ]
  },
  {
   "cell_type": "code",
   "execution_count": 173,
   "id": "9652aa48",
   "metadata": {},
   "outputs": [
    {
     "data": {
      "text/plain": [
       "SVC(C=0.03125, kernel='poly')"
      ]
     },
     "execution_count": 173,
     "metadata": {},
     "output_type": "execute_result"
    }
   ],
   "source": [
    "svm_clf = SVC(**best_param)\n",
    "svm_clf.fit(x_train, y_train)"
   ]
  },
  {
   "cell_type": "code",
   "execution_count": 174,
   "id": "71b23704",
   "metadata": {},
   "outputs": [],
   "source": [
    "y_pred = svm_clf.predict(x_test)"
   ]
  },
  {
   "cell_type": "code",
   "execution_count": 175,
   "id": "3e896f77",
   "metadata": {},
   "outputs": [
    {
     "data": {
      "text/plain": [
       "0.46296296296296297"
      ]
     },
     "execution_count": 175,
     "metadata": {},
     "output_type": "execute_result"
    }
   ],
   "source": [
    "accuracy_score(y_test, y_pred)"
   ]
  },
  {
   "cell_type": "code",
   "execution_count": null,
   "id": "42bad043",
   "metadata": {},
   "outputs": [],
   "source": []
  }
 ],
 "metadata": {
  "kernelspec": {
   "display_name": "Python 3 (ipykernel)",
   "language": "python",
   "name": "python3"
  },
  "language_info": {
   "codemirror_mode": {
    "name": "ipython",
    "version": 3
   },
   "file_extension": ".py",
   "mimetype": "text/x-python",
   "name": "python",
   "nbconvert_exporter": "python",
   "pygments_lexer": "ipython3",
   "version": "3.9.10"
  }
 },
 "nbformat": 4,
 "nbformat_minor": 5
}
